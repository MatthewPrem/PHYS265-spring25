{
 "cells": [
  {
   "cell_type": "markdown",
   "id": "00dd2039-e3aa-40ff-9dc8-524e75a8dfb3",
   "metadata": {},
   "source": [
    "# Pynbody: Where's the point?"
   ]
  },
  {
   "cell_type": "code",
   "execution_count": 26,
   "id": "b143884a-d276-4715-be1c-f46622099c38",
   "metadata": {},
   "outputs": [
    {
     "name": "stdout",
     "output_type": "stream",
     "text": [
      "Collecting pynbody\n",
      "  Using cached pynbody-2.1.1-cp312-cp312-manylinux_2_17_x86_64.manylinux2014_x86_64.whl.metadata (4.8 kB)\n",
      "Collecting cython>=0.20 (from pynbody)\n",
      "  Using cached cython-3.1.0-cp312-cp312-manylinux_2_17_x86_64.manylinux2014_x86_64.whl.metadata (30 kB)\n",
      "Collecting h5py>=3.0.0 (from pynbody)\n",
      "  Using cached h5py-3.13.0-cp312-cp312-manylinux_2_17_x86_64.manylinux2014_x86_64.whl.metadata (2.5 kB)\n",
      "Collecting matplotlib>=3.0.0 (from pynbody)\n",
      "  Using cached matplotlib-3.10.3-cp312-cp312-manylinux_2_17_x86_64.manylinux2014_x86_64.whl.metadata (11 kB)\n",
      "Requirement already satisfied: numpy>=1.21.6 in /root/.local/share/pipx/venvs/jupyterlab/lib/python3.12/site-packages (from pynbody) (2.2.5)\n",
      "Collecting scipy>=1.0.0 (from pynbody)\n",
      "  Using cached scipy-1.15.3-cp312-cp312-manylinux_2_17_x86_64.manylinux2014_x86_64.whl.metadata (61 kB)\n",
      "Collecting posix-ipc>=1.1.0 (from pynbody)\n",
      "  Using cached posix_ipc-1.2.0-cp312-cp312-manylinux_2_5_x86_64.manylinux1_x86_64.manylinux_2_17_x86_64.manylinux2014_x86_64.whl.metadata (2.5 kB)\n",
      "Collecting contourpy>=1.0.1 (from matplotlib>=3.0.0->pynbody)\n",
      "  Using cached contourpy-1.3.2-cp312-cp312-manylinux_2_17_x86_64.manylinux2014_x86_64.whl.metadata (5.5 kB)\n",
      "Collecting cycler>=0.10 (from matplotlib>=3.0.0->pynbody)\n",
      "  Using cached cycler-0.12.1-py3-none-any.whl.metadata (3.8 kB)\n",
      "Collecting fonttools>=4.22.0 (from matplotlib>=3.0.0->pynbody)\n",
      "  Using cached fonttools-4.57.0-cp312-cp312-manylinux_2_5_x86_64.manylinux1_x86_64.manylinux_2_17_x86_64.manylinux2014_x86_64.whl.metadata (102 kB)\n",
      "Collecting kiwisolver>=1.3.1 (from matplotlib>=3.0.0->pynbody)\n",
      "  Using cached kiwisolver-1.4.8-cp312-cp312-manylinux_2_17_x86_64.manylinux2014_x86_64.whl.metadata (6.2 kB)\n",
      "Requirement already satisfied: packaging>=20.0 in /root/.local/share/pipx/venvs/jupyterlab/lib/python3.12/site-packages (from matplotlib>=3.0.0->pynbody) (25.0)\n",
      "Collecting pillow>=8 (from matplotlib>=3.0.0->pynbody)\n",
      "  Using cached pillow-11.2.1-cp312-cp312-manylinux_2_28_x86_64.whl.metadata (8.9 kB)\n",
      "Collecting pyparsing>=2.3.1 (from matplotlib>=3.0.0->pynbody)\n",
      "  Using cached pyparsing-3.2.3-py3-none-any.whl.metadata (5.0 kB)\n",
      "Requirement already satisfied: python-dateutil>=2.7 in /root/.local/share/pipx/venvs/jupyterlab/lib/python3.12/site-packages (from matplotlib>=3.0.0->pynbody) (2.9.0.post0)\n",
      "Requirement already satisfied: six>=1.5 in /root/.local/share/pipx/venvs/jupyterlab/lib/python3.12/site-packages (from python-dateutil>=2.7->matplotlib>=3.0.0->pynbody) (1.17.0)\n",
      "Using cached pynbody-2.1.1-cp312-cp312-manylinux_2_17_x86_64.manylinux2014_x86_64.whl (10.2 MB)\n",
      "Using cached cython-3.1.0-cp312-cp312-manylinux_2_17_x86_64.manylinux2014_x86_64.whl (3.2 MB)\n",
      "Using cached h5py-3.13.0-cp312-cp312-manylinux_2_17_x86_64.manylinux2014_x86_64.whl (4.9 MB)\n",
      "Using cached matplotlib-3.10.3-cp312-cp312-manylinux_2_17_x86_64.manylinux2014_x86_64.whl (8.6 MB)\n",
      "Using cached contourpy-1.3.2-cp312-cp312-manylinux_2_17_x86_64.manylinux2014_x86_64.whl (323 kB)\n",
      "Using cached cycler-0.12.1-py3-none-any.whl (8.3 kB)\n",
      "Using cached fonttools-4.57.0-cp312-cp312-manylinux_2_5_x86_64.manylinux1_x86_64.manylinux_2_17_x86_64.manylinux2014_x86_64.whl (4.9 MB)\n",
      "Using cached kiwisolver-1.4.8-cp312-cp312-manylinux_2_17_x86_64.manylinux2014_x86_64.whl (1.5 MB)\n",
      "Using cached pillow-11.2.1-cp312-cp312-manylinux_2_28_x86_64.whl (4.6 MB)\n",
      "Using cached posix_ipc-1.2.0-cp312-cp312-manylinux_2_5_x86_64.manylinux1_x86_64.manylinux_2_17_x86_64.manylinux2014_x86_64.whl (51 kB)\n",
      "Using cached pyparsing-3.2.3-py3-none-any.whl (111 kB)\n",
      "Using cached scipy-1.15.3-cp312-cp312-manylinux_2_17_x86_64.manylinux2014_x86_64.whl (37.3 MB)\n",
      "Installing collected packages: posix-ipc, scipy, pyparsing, pillow, kiwisolver, h5py, fonttools, cython, cycler, contourpy, matplotlib, pynbody\n",
      "\u001b[2K   \u001b[90m━━━━━━━━━━━━━━━━━━━━━━━━━━━━━━━━━━━━━━━━\u001b[0m \u001b[32m12/12\u001b[0m [pynbody]1/12\u001b[0m [pynbody]ib]\n",
      "\u001b[1A\u001b[2KSuccessfully installed contourpy-1.3.2 cycler-0.12.1 cython-3.1.0 fonttools-4.57.0 h5py-3.13.0 kiwisolver-1.4.8 matplotlib-3.10.3 pillow-11.2.1 posix-ipc-1.2.0 pynbody-2.1.1 pyparsing-3.2.3 scipy-1.15.3\n",
      "Note: you may need to restart the kernel to use updated packages.\n"
     ]
    }
   ],
   "source": [
    "pip install pynbody"
   ]
  },
  {
   "cell_type": "code",
   "execution_count": 5,
   "id": "f9974ac3-d075-47da-9e11-6a5901487bfa",
   "metadata": {},
   "outputs": [
    {
     "name": "stdout",
     "output_type": "stream",
     "text": [
      "Cloning into 'pynbody'...\n",
      "remote: Enumerating objects: 23815, done.\u001b[K\n",
      "remote: Counting objects: 100% (3063/3063), done.\u001b[K\n",
      "remote: Compressing objects: 100% (732/732), done.\u001b[K\n",
      "remote: Total 23815 (delta 2514), reused 2335 (delta 2331), pack-reused 20752 (from 3)\u001b[K\n",
      "Receiving objects: 100% (23815/23815), 261.81 MiB | 28.85 MiB/s, done.\n",
      "Resolving deltas: 100% (16946/16946), done.\n"
     ]
    }
   ],
   "source": [
    "!git clone https://github.com/pynbody/pynbody.git"
   ]
  },
  {
   "cell_type": "code",
   "execution_count": 27,
   "id": "28841378-5ea0-49e7-9cfc-9d4ae68c5c46",
   "metadata": {},
   "outputs": [
    {
     "name": "stdout",
     "output_type": "stream",
     "text": [
      "Collecting topsy\n",
      "  Using cached topsy-0.6.1-py3-none-any.whl.metadata (9.3 kB)\n",
      "Requirement already satisfied: numpy>=1.16.0 in /root/.local/share/pipx/venvs/jupyterlab/lib/python3.12/site-packages (from topsy) (2.2.5)\n",
      "Requirement already satisfied: pynbody>=2.1.1 in /root/.local/share/pipx/venvs/jupyterlab/lib/python3.12/site-packages (from topsy) (2.1.1)\n",
      "Requirement already satisfied: matplotlib>=3.6.0 in /root/.local/share/pipx/venvs/jupyterlab/lib/python3.12/site-packages (from topsy) (3.10.3)\n",
      "Requirement already satisfied: pillow>=9.5.0 in /root/.local/share/pipx/venvs/jupyterlab/lib/python3.12/site-packages (from topsy) (11.2.1)\n",
      "Collecting wgpu<0.23,>=0.22 (from topsy)\n",
      "  Using cached wgpu-0.22.1-py3-none-manylinux_2_28_x86_64.whl.metadata (11 kB)\n",
      "Collecting jupyter_rfb>=0.4.1 (from topsy)\n",
      "  Using cached jupyter_rfb-0.5.3-py3-none-any.whl.metadata (5.0 kB)\n",
      "Collecting tqdm>=4.62.0 (from topsy)\n",
      "  Using cached tqdm-4.67.1-py3-none-any.whl.metadata (57 kB)\n",
      "Collecting opencv-python>=4.8.0 (from topsy)\n",
      "  Using cached opencv_python-4.11.0.86-cp37-abi3-manylinux_2_17_x86_64.manylinux2014_x86_64.whl.metadata (20 kB)\n",
      "Collecting PySide6>=6.5.0 (from topsy)\n",
      "  Using cached PySide6-6.9.0-cp39-abi3-manylinux_2_28_x86_64.whl.metadata (5.5 kB)\n",
      "Collecting superqt>=0.7.3 (from topsy)\n",
      "  Using cached superqt-0.7.3-py3-none-any.whl.metadata (6.2 kB)\n",
      "Collecting rendercanvas>=2.0.3 (from topsy)\n",
      "  Using cached rendercanvas-2.0.4-py3-none-any.whl.metadata (5.7 kB)\n",
      "Requirement already satisfied: cffi>=1.15.0 in /root/.local/share/pipx/venvs/jupyterlab/lib/python3.12/site-packages (from wgpu<0.23,>=0.22->topsy) (1.17.1)\n",
      "Requirement already satisfied: sniffio in /root/.local/share/pipx/venvs/jupyterlab/lib/python3.12/site-packages (from wgpu<0.23,>=0.22->topsy) (1.3.1)\n",
      "Requirement already satisfied: pycparser in /root/.local/share/pipx/venvs/jupyterlab/lib/python3.12/site-packages (from cffi>=1.15.0->wgpu<0.23,>=0.22->topsy) (2.22)\n",
      "Collecting ipywidgets<9,>=7.6.0 (from jupyter_rfb>=0.4.1->topsy)\n",
      "  Using cached ipywidgets-8.1.7-py3-none-any.whl.metadata (2.4 kB)\n",
      "Collecting jupyterlab-widgets (from jupyter_rfb>=0.4.1->topsy)\n",
      "  Using cached jupyterlab_widgets-3.0.15-py3-none-any.whl.metadata (20 kB)\n",
      "Requirement already satisfied: comm>=0.1.3 in /root/.local/share/pipx/venvs/jupyterlab/lib/python3.12/site-packages (from ipywidgets<9,>=7.6.0->jupyter_rfb>=0.4.1->topsy) (0.2.2)\n",
      "Requirement already satisfied: ipython>=6.1.0 in /root/.local/share/pipx/venvs/jupyterlab/lib/python3.12/site-packages (from ipywidgets<9,>=7.6.0->jupyter_rfb>=0.4.1->topsy) (9.2.0)\n",
      "Requirement already satisfied: traitlets>=4.3.1 in /root/.local/share/pipx/venvs/jupyterlab/lib/python3.12/site-packages (from ipywidgets<9,>=7.6.0->jupyter_rfb>=0.4.1->topsy) (5.14.3)\n",
      "Collecting widgetsnbextension~=4.0.14 (from ipywidgets<9,>=7.6.0->jupyter_rfb>=0.4.1->topsy)\n",
      "  Using cached widgetsnbextension-4.0.14-py3-none-any.whl.metadata (1.6 kB)\n",
      "Requirement already satisfied: decorator in /root/.local/share/pipx/venvs/jupyterlab/lib/python3.12/site-packages (from ipython>=6.1.0->ipywidgets<9,>=7.6.0->jupyter_rfb>=0.4.1->topsy) (5.2.1)\n",
      "Requirement already satisfied: ipython-pygments-lexers in /root/.local/share/pipx/venvs/jupyterlab/lib/python3.12/site-packages (from ipython>=6.1.0->ipywidgets<9,>=7.6.0->jupyter_rfb>=0.4.1->topsy) (1.1.1)\n",
      "Requirement already satisfied: jedi>=0.16 in /root/.local/share/pipx/venvs/jupyterlab/lib/python3.12/site-packages (from ipython>=6.1.0->ipywidgets<9,>=7.6.0->jupyter_rfb>=0.4.1->topsy) (0.19.2)\n",
      "Requirement already satisfied: matplotlib-inline in /root/.local/share/pipx/venvs/jupyterlab/lib/python3.12/site-packages (from ipython>=6.1.0->ipywidgets<9,>=7.6.0->jupyter_rfb>=0.4.1->topsy) (0.1.7)\n",
      "Requirement already satisfied: pexpect>4.3 in /root/.local/share/pipx/venvs/jupyterlab/lib/python3.12/site-packages (from ipython>=6.1.0->ipywidgets<9,>=7.6.0->jupyter_rfb>=0.4.1->topsy) (4.9.0)\n",
      "Requirement already satisfied: prompt_toolkit<3.1.0,>=3.0.41 in /root/.local/share/pipx/venvs/jupyterlab/lib/python3.12/site-packages (from ipython>=6.1.0->ipywidgets<9,>=7.6.0->jupyter_rfb>=0.4.1->topsy) (3.0.51)\n",
      "Requirement already satisfied: pygments>=2.4.0 in /root/.local/share/pipx/venvs/jupyterlab/lib/python3.12/site-packages (from ipython>=6.1.0->ipywidgets<9,>=7.6.0->jupyter_rfb>=0.4.1->topsy) (2.19.1)\n",
      "Requirement already satisfied: stack_data in /root/.local/share/pipx/venvs/jupyterlab/lib/python3.12/site-packages (from ipython>=6.1.0->ipywidgets<9,>=7.6.0->jupyter_rfb>=0.4.1->topsy) (0.6.3)\n",
      "Requirement already satisfied: wcwidth in /root/.local/share/pipx/venvs/jupyterlab/lib/python3.12/site-packages (from prompt_toolkit<3.1.0,>=3.0.41->ipython>=6.1.0->ipywidgets<9,>=7.6.0->jupyter_rfb>=0.4.1->topsy) (0.2.13)\n",
      "Requirement already satisfied: parso<0.9.0,>=0.8.4 in /root/.local/share/pipx/venvs/jupyterlab/lib/python3.12/site-packages (from jedi>=0.16->ipython>=6.1.0->ipywidgets<9,>=7.6.0->jupyter_rfb>=0.4.1->topsy) (0.8.4)\n",
      "Requirement already satisfied: contourpy>=1.0.1 in /root/.local/share/pipx/venvs/jupyterlab/lib/python3.12/site-packages (from matplotlib>=3.6.0->topsy) (1.3.2)\n",
      "Requirement already satisfied: cycler>=0.10 in /root/.local/share/pipx/venvs/jupyterlab/lib/python3.12/site-packages (from matplotlib>=3.6.0->topsy) (0.12.1)\n",
      "Requirement already satisfied: fonttools>=4.22.0 in /root/.local/share/pipx/venvs/jupyterlab/lib/python3.12/site-packages (from matplotlib>=3.6.0->topsy) (4.57.0)\n",
      "Requirement already satisfied: kiwisolver>=1.3.1 in /root/.local/share/pipx/venvs/jupyterlab/lib/python3.12/site-packages (from matplotlib>=3.6.0->topsy) (1.4.8)\n",
      "Requirement already satisfied: packaging>=20.0 in /root/.local/share/pipx/venvs/jupyterlab/lib/python3.12/site-packages (from matplotlib>=3.6.0->topsy) (25.0)\n",
      "Requirement already satisfied: pyparsing>=2.3.1 in /root/.local/share/pipx/venvs/jupyterlab/lib/python3.12/site-packages (from matplotlib>=3.6.0->topsy) (3.2.3)\n",
      "Requirement already satisfied: python-dateutil>=2.7 in /root/.local/share/pipx/venvs/jupyterlab/lib/python3.12/site-packages (from matplotlib>=3.6.0->topsy) (2.9.0.post0)\n",
      "Requirement already satisfied: ptyprocess>=0.5 in /root/.local/share/pipx/venvs/jupyterlab/lib/python3.12/site-packages (from pexpect>4.3->ipython>=6.1.0->ipywidgets<9,>=7.6.0->jupyter_rfb>=0.4.1->topsy) (0.7.0)\n",
      "Requirement already satisfied: cython>=0.20 in /root/.local/share/pipx/venvs/jupyterlab/lib/python3.12/site-packages (from pynbody>=2.1.1->topsy) (3.1.0)\n",
      "Requirement already satisfied: h5py>=3.0.0 in /root/.local/share/pipx/venvs/jupyterlab/lib/python3.12/site-packages (from pynbody>=2.1.1->topsy) (3.13.0)\n",
      "Requirement already satisfied: scipy>=1.0.0 in /root/.local/share/pipx/venvs/jupyterlab/lib/python3.12/site-packages (from pynbody>=2.1.1->topsy) (1.15.3)\n",
      "Requirement already satisfied: posix-ipc>=1.1.0 in /root/.local/share/pipx/venvs/jupyterlab/lib/python3.12/site-packages (from pynbody>=2.1.1->topsy) (1.2.0)\n",
      "Collecting shiboken6==6.9.0 (from PySide6>=6.5.0->topsy)\n",
      "  Using cached shiboken6-6.9.0-cp39-abi3-manylinux_2_28_x86_64.whl.metadata (2.7 kB)\n",
      "Collecting PySide6-Essentials==6.9.0 (from PySide6>=6.5.0->topsy)\n",
      "  Using cached PySide6_Essentials-6.9.0-cp39-abi3-manylinux_2_28_x86_64.whl.metadata (3.9 kB)\n",
      "Collecting PySide6-Addons==6.9.0 (from PySide6>=6.5.0->topsy)\n",
      "  Using cached PySide6_Addons-6.9.0-cp39-abi3-manylinux_2_28_x86_64.whl.metadata (4.2 kB)\n",
      "Requirement already satisfied: six>=1.5 in /root/.local/share/pipx/venvs/jupyterlab/lib/python3.12/site-packages (from python-dateutil>=2.7->matplotlib>=3.6.0->topsy) (1.17.0)\n",
      "Collecting qtpy>=1.1.0 (from superqt>=0.7.3->topsy)\n",
      "  Using cached QtPy-2.4.3-py3-none-any.whl.metadata (12 kB)\n",
      "Requirement already satisfied: typing-extensions!=3.10.0.0,>=3.7.4.3 in /root/.local/share/pipx/venvs/jupyterlab/lib/python3.12/site-packages (from superqt>=0.7.3->topsy) (4.13.2)\n",
      "Requirement already satisfied: executing>=1.2.0 in /root/.local/share/pipx/venvs/jupyterlab/lib/python3.12/site-packages (from stack_data->ipython>=6.1.0->ipywidgets<9,>=7.6.0->jupyter_rfb>=0.4.1->topsy) (2.2.0)\n",
      "Requirement already satisfied: asttokens>=2.1.0 in /root/.local/share/pipx/venvs/jupyterlab/lib/python3.12/site-packages (from stack_data->ipython>=6.1.0->ipywidgets<9,>=7.6.0->jupyter_rfb>=0.4.1->topsy) (3.0.0)\n",
      "Requirement already satisfied: pure-eval in /root/.local/share/pipx/venvs/jupyterlab/lib/python3.12/site-packages (from stack_data->ipython>=6.1.0->ipywidgets<9,>=7.6.0->jupyter_rfb>=0.4.1->topsy) (0.2.3)\n",
      "Using cached topsy-0.6.1-py3-none-any.whl (104 kB)\n",
      "Using cached wgpu-0.22.1-py3-none-manylinux_2_28_x86_64.whl (3.2 MB)\n",
      "Using cached jupyter_rfb-0.5.3-py3-none-any.whl (31 kB)\n",
      "Using cached ipywidgets-8.1.7-py3-none-any.whl (139 kB)\n",
      "Using cached jupyterlab_widgets-3.0.15-py3-none-any.whl (216 kB)\n",
      "Using cached widgetsnbextension-4.0.14-py3-none-any.whl (2.2 MB)\n",
      "Using cached opencv_python-4.11.0.86-cp37-abi3-manylinux_2_17_x86_64.manylinux2014_x86_64.whl (63.0 MB)\n",
      "Using cached PySide6-6.9.0-cp39-abi3-manylinux_2_28_x86_64.whl (558 kB)\n",
      "Using cached PySide6_Addons-6.9.0-cp39-abi3-manylinux_2_28_x86_64.whl (166.3 MB)\n",
      "Using cached PySide6_Essentials-6.9.0-cp39-abi3-manylinux_2_28_x86_64.whl (94.2 MB)\n",
      "Using cached shiboken6-6.9.0-cp39-abi3-manylinux_2_28_x86_64.whl (206 kB)\n",
      "Using cached rendercanvas-2.0.4-py3-none-any.whl (70 kB)\n",
      "Using cached superqt-0.7.3-py3-none-any.whl (99 kB)\n",
      "Using cached QtPy-2.4.3-py3-none-any.whl (95 kB)\n",
      "Using cached tqdm-4.67.1-py3-none-any.whl (78 kB)\n",
      "Installing collected packages: widgetsnbextension, tqdm, shiboken6, rendercanvas, qtpy, opencv-python, jupyterlab-widgets, wgpu, superqt, PySide6-Essentials, PySide6-Addons, ipywidgets, PySide6, jupyter_rfb, topsy\n",
      "\u001b[2K   \u001b[90m━━━━━━━━━━━━━━━━━━━━━━━━━━━━━━━━━━━━━━━━\u001b[0m \u001b[32m15/15\u001b[0m [topsy]m12/15\u001b[0m [PySide6]Addons]als]\n",
      "\u001b[1A\u001b[2KSuccessfully installed PySide6-6.9.0 PySide6-Addons-6.9.0 PySide6-Essentials-6.9.0 ipywidgets-8.1.7 jupyter_rfb-0.5.3 jupyterlab-widgets-3.0.15 opencv-python-4.11.0.86 qtpy-2.4.3 rendercanvas-2.0.4 shiboken6-6.9.0 superqt-0.7.3 topsy-0.6.1 tqdm-4.67.1 wgpu-0.22.1 widgetsnbextension-4.0.14\n",
      "Note: you may need to restart the kernel to use updated packages.\n"
     ]
    }
   ],
   "source": [
    "pip install topsy"
   ]
  },
  {
   "cell_type": "code",
   "execution_count": 24,
   "id": "a9fa22f4-6ff0-49f7-9d29-3fbc534c6afc",
   "metadata": {},
   "outputs": [
    {
     "name": "stdout",
     "output_type": "stream",
     "text": [
      "Requirement already satisfied: numpy in /root/.local/share/pipx/venvs/jupyterlab/lib/python3.12/site-packages (2.2.5)\n",
      "Note: you may need to restart the kernel to use updated packages.\n"
     ]
    }
   ],
   "source": [
    "pip install numpy"
   ]
  },
  {
   "cell_type": "code",
   "execution_count": 1,
   "id": "7f8e070b-fe95-4376-8082-db0734390b44",
   "metadata": {},
   "outputs": [],
   "source": [
    "import numpy as np"
   ]
  }
 ],
 "metadata": {
  "kernelspec": {
   "display_name": "Python 3 (ipykernel)",
   "language": "python",
   "name": "python3"
  },
  "language_info": {
   "codemirror_mode": {
    "name": "ipython",
    "version": 3
   },
   "file_extension": ".py",
   "mimetype": "text/x-python",
   "name": "python",
   "nbconvert_exporter": "python",
   "pygments_lexer": "ipython3",
   "version": "3.12.3"
  }
 },
 "nbformat": 4,
 "nbformat_minor": 5
}
